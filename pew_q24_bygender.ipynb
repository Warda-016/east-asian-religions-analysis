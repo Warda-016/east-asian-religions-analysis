{
 "cells": [
  {
   "cell_type": "code",
   "execution_count": 1,
   "metadata": {},
   "outputs": [],
   "source": [
    "import pandas as pd"
   ]
  },
  {
   "cell_type": "code",
   "execution_count": 3,
   "metadata": {},
   "outputs": [],
   "source": [
    "import matplotlib.pyplot as plt"
   ]
  },
  {
   "cell_type": "code",
   "execution_count": 19,
   "metadata": {},
   "outputs": [
    {
     "name": "stdout",
     "output_type": "stream",
     "text": [
      "<class 'pandas.core.frame.DataFrame'>\n",
      "RangeIndex: 10390 entries, 0 to 10389\n",
      "Columns: 151 entries, QRID to UrbanVietnam\n",
      "dtypes: float64(1), int64(91), object(59)\n",
      "memory usage: 12.0+ MB\n",
      "None\n",
      "Index(['QRID', 'weight', 'SurveyPublic', 'DEMONYM', 'Q1', 'Q2a', 'Q2b', 'Q2c',\n",
      "       'Q2d', 'Q3',\n",
      "       ...\n",
      "       'QZIPHKG', 'QZIPHKG2', 'QZIPJPN2', 'QZIPKOR', 'QZIPTWN',\n",
      "       'VietnamRegion', 'GenderRec', 'Language', 'ISCED', 'UrbanVietnam'],\n",
      "      dtype='object', length=151)\n"
     ]
    },
    {
     "name": "stderr",
     "output_type": "stream",
     "text": [
      "C:\\Users\\Administrator\\AppData\\Local\\Temp\\ipykernel_17844\\212260270.py:1: DtypeWarning: Columns (12,13,14,15,101,104,110,111,112,113,114) have mixed types. Specify dtype option on import or set low_memory=False.\n",
      "  reviews = pd.read_csv(\"pew_research.csv\")\n"
     ]
    }
   ],
   "source": [
    "reviews = pd.read_csv(\"pew_research.csv\")\n",
    "print(reviews.info())\n",
    "print(reviews.columns)"
   ]
  },
  {
   "cell_type": "code",
   "execution_count": 5,
   "metadata": {},
   "outputs": [
    {
     "name": "stdout",
     "output_type": "stream",
     "text": [
      "      QRID    weight  SurveyPublic  DEMONYM  Q1  Q2a  Q2b  Q2c  Q2d  Q3  ...  \\\n",
      "0  1300002  0.469825             1        1   1    3    3    3    3   2  ...   \n",
      "1  1300003  0.546789             1        1   3    1    2    1    3   2  ...   \n",
      "2  1300049  0.703324             1        1   2    1    3    1    3   2  ...   \n",
      "3  1300057  0.844956             1        1   1    3    3    3    3   2  ...   \n",
      "4  1300065  0.552330             1        1   3    3    3    3    3   2  ...   \n",
      "\n",
      "   QZIPHKG  QZIPHKG2 QZIPJPN2 QZIPKOR QZIPTWN VietnamRegion  GenderRec  \\\n",
      "0       17         3                                                 2   \n",
      "1       17         3                                                 2   \n",
      "2       10         3                                                 1   \n",
      "3        3         1                                                 1   \n",
      "4        3         1                                                 2   \n",
      "\n",
      "   Language  ISCED UrbanVietnam  \n",
      "0         1      5               \n",
      "1         1      5               \n",
      "2         1      5               \n",
      "3         1      3               \n",
      "4         1      5               \n",
      "\n",
      "[5 rows x 151 columns]\n"
     ]
    }
   ],
   "source": [
    "reviews.head()\n",
    "print(reviews.head())"
   ]
  },
  {
   "cell_type": "code",
   "execution_count": 6,
   "metadata": {},
   "outputs": [
    {
     "name": "stdout",
     "output_type": "stream",
     "text": [
      "Index(['QRID', 'weight', 'SurveyPublic', 'DEMONYM', 'Q1', 'Q2a', 'Q2b', 'Q2c',\n",
      "       'Q2d', 'Q3',\n",
      "       ...\n",
      "       'QZIPHKG', 'QZIPHKG2', 'QZIPJPN2', 'QZIPKOR', 'QZIPTWN',\n",
      "       'VietnamRegion', 'GenderRec', 'Language', 'ISCED', 'UrbanVietnam'],\n",
      "      dtype='object', length=151)\n"
     ]
    }
   ],
   "source": [
    "print(reviews.columns)"
   ]
  },
  {
   "cell_type": "code",
   "execution_count": 17,
   "metadata": {},
   "outputs": [
    {
     "data": {
      "text/html": [
       "<div>\n",
       "<style scoped>\n",
       "    .dataframe tbody tr th:only-of-type {\n",
       "        vertical-align: middle;\n",
       "    }\n",
       "\n",
       "    .dataframe tbody tr th {\n",
       "        vertical-align: top;\n",
       "    }\n",
       "\n",
       "    .dataframe thead th {\n",
       "        text-align: right;\n",
       "    }\n",
       "</style>\n",
       "<table border=\"1\" class=\"dataframe\">\n",
       "  <thead>\n",
       "    <tr style=\"text-align: right;\">\n",
       "      <th></th>\n",
       "      <th>Q24a</th>\n",
       "      <th>Q24b</th>\n",
       "      <th>Q24c</th>\n",
       "      <th>Q24d</th>\n",
       "    </tr>\n",
       "  </thead>\n",
       "  <tbody>\n",
       "    <tr>\n",
       "      <th>0</th>\n",
       "      <td>2</td>\n",
       "      <td>2</td>\n",
       "      <td>2</td>\n",
       "      <td>2</td>\n",
       "    </tr>\n",
       "    <tr>\n",
       "      <th>1</th>\n",
       "      <td>2</td>\n",
       "      <td>2</td>\n",
       "      <td>2</td>\n",
       "      <td>2</td>\n",
       "    </tr>\n",
       "    <tr>\n",
       "      <th>2</th>\n",
       "      <td>1</td>\n",
       "      <td>2</td>\n",
       "      <td>2</td>\n",
       "      <td>2</td>\n",
       "    </tr>\n",
       "    <tr>\n",
       "      <th>3</th>\n",
       "      <td>2</td>\n",
       "      <td>2</td>\n",
       "      <td>2</td>\n",
       "      <td>2</td>\n",
       "    </tr>\n",
       "    <tr>\n",
       "      <th>4</th>\n",
       "      <td>1</td>\n",
       "      <td>2</td>\n",
       "      <td>1</td>\n",
       "      <td>2</td>\n",
       "    </tr>\n",
       "    <tr>\n",
       "      <th>...</th>\n",
       "      <td>...</td>\n",
       "      <td>...</td>\n",
       "      <td>...</td>\n",
       "      <td>...</td>\n",
       "    </tr>\n",
       "    <tr>\n",
       "      <th>10385</th>\n",
       "      <td>1</td>\n",
       "      <td>2</td>\n",
       "      <td>2</td>\n",
       "      <td>1</td>\n",
       "    </tr>\n",
       "    <tr>\n",
       "      <th>10386</th>\n",
       "      <td>1</td>\n",
       "      <td>2</td>\n",
       "      <td>1</td>\n",
       "      <td>1</td>\n",
       "    </tr>\n",
       "    <tr>\n",
       "      <th>10387</th>\n",
       "      <td>2</td>\n",
       "      <td>2</td>\n",
       "      <td>2</td>\n",
       "      <td>2</td>\n",
       "    </tr>\n",
       "    <tr>\n",
       "      <th>10388</th>\n",
       "      <td>98</td>\n",
       "      <td>98</td>\n",
       "      <td>1</td>\n",
       "      <td>2</td>\n",
       "    </tr>\n",
       "    <tr>\n",
       "      <th>10389</th>\n",
       "      <td>2</td>\n",
       "      <td>2</td>\n",
       "      <td>2</td>\n",
       "      <td>2</td>\n",
       "    </tr>\n",
       "  </tbody>\n",
       "</table>\n",
       "<p>10390 rows × 4 columns</p>\n",
       "</div>"
      ],
      "text/plain": [
       "       Q24a  Q24b  Q24c  Q24d\n",
       "0         2     2     2     2\n",
       "1         2     2     2     2\n",
       "2         1     2     2     2\n",
       "3         2     2     2     2\n",
       "4         1     2     1     2\n",
       "...     ...   ...   ...   ...\n",
       "10385     1     2     2     1\n",
       "10386     1     2     1     1\n",
       "10387     2     2     2     2\n",
       "10388    98    98     1     2\n",
       "10389     2     2     2     2\n",
       "\n",
       "[10390 rows x 4 columns]"
      ]
     },
     "execution_count": 17,
     "metadata": {},
     "output_type": "execute_result"
    }
   ],
   "source": [
    "reviews.loc[:, ['Q24a', 'Q24b', 'Q24c', 'Q24d']]"
   ]
  },
  {
   "cell_type": "code",
   "execution_count": 24,
   "metadata": {},
   "outputs": [
    {
     "name": "stdout",
     "output_type": "stream",
     "text": [
      "   Q24a  Q24b  Q24c  Q24d\n",
      "0     2     2     2     2\n",
      "1     2     2     2     2\n",
      "2     1     2     2     2\n",
      "3     2     2     2     2\n",
      "4     1     2     1     2\n"
     ]
    }
   ],
   "source": [
    "q24_columns = ['Q24a', 'Q24b', 'Q24c', 'Q24d']\n",
    "q24_data = reviews[q24_columns]\n",
    "print(q24_data.head())"
   ]
  },
  {
   "cell_type": "code",
   "execution_count": 32,
   "metadata": {},
   "outputs": [
    {
     "name": "stdout",
     "output_type": "stream",
     "text": [
      "       Q24a  Q24b  Q24c  Q24d\n",
      "0       2.0   2.0   2.0   2.0\n",
      "1       2.0   2.0   2.0   2.0\n",
      "2       1.0   2.0   2.0   2.0\n",
      "3       2.0   2.0   2.0   2.0\n",
      "4       1.0   2.0   1.0   2.0\n",
      "...     ...   ...   ...   ...\n",
      "10385   1.0   2.0   2.0   1.0\n",
      "10386   1.0   2.0   1.0   1.0\n",
      "10387   2.0   2.0   2.0   2.0\n",
      "10388   NaN   NaN   1.0   2.0\n",
      "10389   2.0   2.0   2.0   2.0\n",
      "\n",
      "[10390 rows x 4 columns]\n"
     ]
    }
   ],
   "source": [
    "q24_data.replace([98, 99], None, inplace=True)\n",
    "q24_data = q24_data.apply(pd.to_numeric)\n",
    "print(q24_data)"
   ]
  },
  {
   "cell_type": "code",
   "execution_count": 35,
   "metadata": {},
   "outputs": [
    {
     "name": "stdout",
     "output_type": "stream",
     "text": [
      "Results for Q24a:\n",
      "Q24a\n",
      "2.0    5858\n",
      "1.0    4235\n",
      "Name: count, dtype: int64\n",
      "Results for Q24b:\n",
      "Q24b\n",
      "2.0    9282\n",
      "1.0     862\n",
      "Name: count, dtype: int64\n",
      "Results for Q24c:\n",
      "Q24c\n",
      "2.0    7471\n",
      "1.0    2854\n",
      "Name: count, dtype: int64\n",
      "Results for Q24d:\n",
      "Q24d\n",
      "2.0    8567\n",
      "1.0    1617\n",
      "Name: count, dtype: int64\n"
     ]
    }
   ],
   "source": [
    "for col in q24_columns:\n",
    "    print(f\"Results for {col}:\")\n",
    "    print(q24_data[col].value_counts()) # yes is 1 and No is 2"
   ]
  },
  {
   "cell_type": "code",
   "execution_count": 36,
   "metadata": {},
   "outputs": [],
   "source": [
    "import matplotlib.pyplot as plt"
   ]
  },
  {
   "cell_type": "code",
   "execution_count": null,
   "metadata": {},
   "outputs": [
    {
     "data": {
      "image/png": "[encoded data removed]",
      "text/plain": [
       "<Figure size 640x480 with 1 Axes>"
      ]
     },
     "metadata": {},
     "output_type": "display_data"
    }
   ],
   "source": [
    "q24_data.sum().plot(kind='bar', title='spirit of an ancestor has done each of the following')\n",
    "plt.xlabel('Questions')\n",
    "plt.ylabel('Frequency of \"yes\"')\n",
    "plt.show()"
   ]
  },
  {
   "cell_type": "code",
   "execution_count": 47,
   "metadata": {},
   "outputs": [
    {
     "name": "stdout",
     "output_type": "stream",
     "text": [
      "                Q24a       Q24b      Q24c       Q24d\n",
      "GenderRec                                           \n",
      "1           4.373221   4.078439  2.308099   3.455126\n",
      "2           4.218641   4.255800  2.331965   4.014576\n",
      "999        14.702703  12.297297  4.405405  12.216216\n"
     ]
    },
    {
     "data": {
      "image/png": "[encoded data removed]",
      "text/plain": [
       "<Figure size 640x480 with 1 Axes>"
      ]
     },
     "metadata": {},
     "output_type": "display_data"
    }
   ],
   "source": [
    "grouped = reviews.groupby('GenderRec')[q24_columns].mean()\n",
    "print(grouped)\n",
    "grouped.plot(kind='bar', title='Responses by Gender')\n",
    "plt.show()"
   ]
  },
  {
   "cell_type": "code",
   "execution_count": 49,
   "metadata": {},
   "outputs": [
    {
     "name": "stdout",
     "output_type": "stream",
     "text": [
      "The question with the most 'Yes' responses is: Q24b\n"
     ]
    }
   ],
   "source": [
    "most_common = q24_data.sum(axis=0).idxmax()  # Find the question with the most \"Yes\" answers\n",
    "print(f\"The question with the most 'Yes' responses is: {most_common}\")"
   ]
  },
  {
   "cell_type": "code",
   "execution_count": 56,
   "metadata": {},
   "outputs": [],
   "source": [
    "q24_labels = {\n",
    "    'Q24a': 'Helped',\n",
    "    'Q24b': 'Punished',\n",
    "    'Q24c': 'visit in dream',\n",
    "    'Q24d': 'Came in any other form'\n",
    "    }"
   ]
  },
  {
   "cell_type": "code",
   "execution_count": 57,
   "metadata": {},
   "outputs": [
    {
     "data": {
      "image/png": "[encoded data removed]",
      "text/plain": [
       "<Figure size 640x480 with 1 Axes>"
      ]
     },
     "metadata": {},
     "output_type": "display_data"
    }
   ],
   "source": [
    "q24_data.sum().rename(index=q24_labels).plot(kind='bar', title='spirit of an ancestor has done each of the following')\n",
    "plt.xlabel('Questions')\n",
    "plt.ylabel('Frequency of \"Yes\"')\n",
    "plt.show()"
   ]
  }
 ],
 "metadata": {
  "kernelspec": {
   "display_name": "Python 3",
   "language": "python",
   "name": "python3"
  },
  "language_info": {
   "codemirror_mode": {
    "name": "ipython",
    "version": 3
   },
   "file_extension": ".py",
   "mimetype": "text/x-python",
   "name": "python",
   "nbconvert_exporter": "python",
   "pygments_lexer": "ipython3",
   "version": "3.12.7"
  }
 },
 "nbformat": 4,
 "nbformat_minor": 2
}
